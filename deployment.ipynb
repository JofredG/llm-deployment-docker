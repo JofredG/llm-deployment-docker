{
 "cells": [
  {
   "cell_type": "markdown",
   "id": "d9b4555c",
   "metadata": {},
   "source": [
    "## 1. Create new HuggingFace Space"
   ]
  },
  {
   "cell_type": "markdown",
   "id": "e3e3660e",
   "metadata": {},
   "source": [
    "Here: https://huggingface.co/new-space"
   ]
  },
  {
   "cell_type": "markdown",
   "id": "efd6d181",
   "metadata": {},
   "source": [
    "#### Space Options\n",
    "\n",
    "1. Name: <whatever>\n",
    "2. Space SDK: Docker\n",
    "3. Docker Template: Blank\n",
    "4. Visibility: Private"
   ]
  },
  {
   "cell_type": "markdown",
   "id": "6a6a993c",
   "metadata": {},
   "source": [
    "## 2. Add HuggingFace as a Git Remote and Push"
   ]
  },
  {
   "cell_type": "markdown",
   "id": "715b5a72",
   "metadata": {},
   "source": [
    "Install `huggingface_hub`"
   ]
  },
  {
   "cell_type": "code",
   "execution_count": null,
   "id": "de6035c1",
   "metadata": {},
   "outputs": [],
   "source": [
    "!pip -q install --upgrade huggingface_hub"
   ]
  },
  {
   "cell_type": "markdown",
   "id": "896aa9e6",
   "metadata": {},
   "source": [
    "Login to HuggingFace"
   ]
  },
  {
   "cell_type": "code",
   "execution_count": 1,
   "id": "8c785f54",
   "metadata": {},
   "outputs": [
    {
     "data": {
      "application/vnd.jupyter.widget-view+json": {
       "model_id": "dcf5360ec1984132a0b2fb12f61e67fb",
       "version_major": 2,
       "version_minor": 0
      },
      "text/plain": [
       "VBox(children=(HTML(value='<center> <img\\nsrc=https://huggingface.co/front/assets/huggingface_logo-noborder.sv…"
      ]
     },
     "metadata": {},
     "output_type": "display_data"
    }
   ],
   "source": [
    "from huggingface_hub import notebook_login\n",
    "notebook_login()"
   ]
  },
  {
   "cell_type": "markdown",
   "id": "4c3cb59c",
   "metadata": {},
   "source": [
    "Now lets setup git and HuggingFace Spaces to work together and deploy"
   ]
  },
  {
   "cell_type": "markdown",
   "id": "dc8246ee",
   "metadata": {},
   "source": [
    "<span style=\"color:red\">REPLACE MY URL WITH YOURS</span>"
   ]
  },
  {
   "cell_type": "code",
   "execution_count": 8,
   "id": "038a40c6",
   "metadata": {},
   "outputs": [],
   "source": [
    "!git remote add huggingface https://huggingface.co/spaces/ericmichael/llm-deployment-docker"
   ]
  },
  {
   "cell_type": "markdown",
   "id": "a1b8ad18",
   "metadata": {},
   "source": [
    "Then force push to sync everything for the first time."
   ]
  },
  {
   "cell_type": "code",
   "execution_count": 9,
   "id": "7316c411",
   "metadata": {},
   "outputs": [
    {
     "name": "stdout",
     "output_type": "stream",
     "text": [
      "Enumerating objects: 9, done.\n",
      "Counting objects: 100% (9/9), done.\n",
      "Delta compression using up to 8 threads\n",
      "Compressing objects: 100% (8/8), done.\n",
      "Writing objects: 100% (9/9), 5.27 KiB | 5.27 MiB/s, done.\n",
      "Total 9 (delta 0), reused 0 (delta 0), pack-reused 0\n",
      "To https://huggingface.co/spaces/ericmichael/llm-agent\n",
      " + d4b77fe...a6f5af0 main -> main (forced update)\n"
     ]
    }
   ],
   "source": [
    "!git push --force huggingface main"
   ]
  },
  {
   "cell_type": "markdown",
   "id": "c6f86b81",
   "metadata": {},
   "source": [
    "## 3. Configure Secrets on HuggingFace"
   ]
  },
  {
   "cell_type": "markdown",
   "id": "0d518cf5",
   "metadata": {},
   "source": [
    "We will need to provide:\n",
    "\n",
    "* `OPENAI_API_BASE` - if you are using my OpenAI service, don't add this one if you are paying for OpenAI yourself\n",
    "* `OPENAI_API_KEY` - either the key from my service or from OpenAI directly"
   ]
  },
  {
   "cell_type": "markdown",
   "id": "bb35a975",
   "metadata": {},
   "source": [
    "## 4. Restart your HuggingFace Space"
   ]
  },
  {
   "cell_type": "code",
   "execution_count": 10,
   "id": "7f8a5291",
   "metadata": {},
   "outputs": [
    {
     "ename": "SyntaxError",
     "evalue": "unterminated string literal (detected at line 1) (1478338036.py, line 1)",
     "output_type": "error",
     "traceback": [
      "\u001b[0;36m  Cell \u001b[0;32mIn[10], line 1\u001b[0;36m\u001b[0m\n\u001b[0;31m    That's it! 🎉 Check your HuggingFace Space URL to access your chatbot!\u001b[0m\n\u001b[0m        ^\u001b[0m\n\u001b[0;31mSyntaxError\u001b[0m\u001b[0;31m:\u001b[0m unterminated string literal (detected at line 1)\n"
     ]
    }
   ],
   "source": [
    "That's it! 🎉 Check your HuggingFace Space URL to access your chatbot!"
   ]
  },
  {
   "cell_type": "code",
   "execution_count": null,
   "id": "f691ae69",
   "metadata": {},
   "outputs": [],
   "source": []
  }
 ],
 "metadata": {
  "kernelspec": {
   "display_name": "Python 3 (ipykernel)",
   "language": "python",
   "name": "python3"
  },
  "language_info": {
   "codemirror_mode": {
    "name": "ipython",
    "version": 3
   },
   "file_extension": ".py",
   "mimetype": "text/x-python",
   "name": "python",
   "nbconvert_exporter": "python",
   "pygments_lexer": "ipython3",
   "version": "3.9.6"
  }
 },
 "nbformat": 4,
 "nbformat_minor": 5
}
