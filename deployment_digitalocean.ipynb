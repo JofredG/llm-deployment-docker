{
 "cells": [
  {
   "cell_type": "markdown",
   "id": "d9b4555c",
   "metadata": {},
   "source": [
    "## 1. Create Digital Ocean Account"
   ]
  },
  {
   "cell_type": "markdown",
   "id": "48cb1fb3",
   "metadata": {},
   "source": [
    "https://www.digitalocean.com/"
   ]
  },
  {
   "cell_type": "markdown",
   "id": "aed08c5a",
   "metadata": {},
   "source": [
    "## 2. Create Container Registry and Access Token"
   ]
  },
  {
   "cell_type": "markdown",
   "id": "045f846b",
   "metadata": {},
   "source": [
    "https://cloud.digitalocean.com/registry\n",
    "\n",
    "Atleast 5gb of storage will be required."
   ]
  },
  {
   "cell_type": "markdown",
   "id": "7fcd0b25",
   "metadata": {},
   "source": [
    "https://docs.digitalocean.com/reference/api/create-personal-access-token/"
   ]
  },
  {
   "cell_type": "markdown",
   "id": "7afd7970",
   "metadata": {},
   "source": [
    "## 3. Setup Secrets on Github"
   ]
  },
  {
   "cell_type": "markdown",
   "id": "d2fc6a40",
   "metadata": {},
   "source": [
    "https://docs.github.com/en/actions/reference/encrypted-secrets"
   ]
  },
  {
   "cell_type": "markdown",
   "id": "99aac75b",
   "metadata": {},
   "source": [
    "We will need to provide:\n",
    "\n",
    "* `DIGITALOCEAN_ACCESS_TOKEN` - your DigitalOcean Access Token\n",
    "* `REGISTRY_NAME` - Your container registry name\n",
    "* `REPOSITORY_NAME` - name of your repository, you get to pick this"
   ]
  },
  {
   "cell_type": "markdown",
   "id": "d64ee0e9",
   "metadata": {},
   "source": [
    "## 4. Build Image"
   ]
  },
  {
   "cell_type": "markdown",
   "id": "8b60f5c0",
   "metadata": {},
   "source": [
    "Trigger a build in the 'Actions' tab of your Github repo"
   ]
  },
  {
   "cell_type": "markdown",
   "id": "e9b35de3",
   "metadata": {},
   "source": [
    "## 5. Setup App on Digital Ocean"
   ]
  },
  {
   "cell_type": "markdown",
   "id": "b27e95f9",
   "metadata": {},
   "source": [
    "- Setup an 'app' in DigitalOcean whose source is the Container Registry.\n",
    "- Select your container registry and repo name\n",
    "- Choose the 'latest' tag\n",
    "\n",
    "\n",
    "Setup your secrets."
   ]
  },
  {
   "cell_type": "markdown",
   "id": "0d518cf5",
   "metadata": {},
   "source": [
    "We will need to provide:\n",
    "\n",
    "* `OPENAI_API_BASE` - if you are using my OpenAI service, don't add this one if you are paying for OpenAI yourself\n",
    "* `OPENAI_API_KEY` - either the key from my service or from OpenAI directly"
   ]
  },
  {
   "cell_type": "markdown",
   "id": "bb35a975",
   "metadata": {},
   "source": [
    "## 4. Done!"
   ]
  },
  {
   "cell_type": "markdown",
   "id": "7f8a5291",
   "metadata": {},
   "source": [
    "That's it! 🎉 Your app should be deployed. And it will be automatically kept up to date with any changes to your repo!"
   ]
  }
 ],
 "metadata": {
  "kernelspec": {
   "display_name": "Python 3 (ipykernel)",
   "language": "python",
   "name": "python3"
  },
  "language_info": {
   "codemirror_mode": {
    "name": "ipython",
    "version": 3
   },
   "file_extension": ".py",
   "mimetype": "text/x-python",
   "name": "python",
   "nbconvert_exporter": "python",
   "pygments_lexer": "ipython3",
   "version": "3.9.6"
  }
 },
 "nbformat": 4,
 "nbformat_minor": 5
}
